{
  "cells": [
    {
      "cell_type": "markdown",
      "metadata": {
        "id": "view-in-github",
        "colab_type": "text"
      },
      "source": [
        "<a href=\"https://colab.research.google.com/github/David-Almaguer-La-Rosa/amazong-automatic-review-analyzer/blob/main/Amazong_automatic_review_analyzer.ipynb\" target=\"_parent\"><img src=\"https://colab.research.google.com/assets/colab-badge.svg\" alt=\"Open In Colab\"/></a>"
      ]
    },
    {
      "cell_type": "code",
      "execution_count": null,
      "metadata": {
        "id": "tLGucj1jxrHB"
      },
      "outputs": [],
      "source": [
        "import numpy as np\n",
        "import pandas as pd\n",
        "from string import punctuation, digits\n",
        "import nltk\n",
        "import matplotlib.pyplot as plt # for plotting \n",
        "import seaborn as sns # for plotting\n",
        "from sklearn import linear_model\n",
        "from sklearn import model_selection as ms\n",
        "from google.colab import drive\n",
        "drive.mount('/content/drive')"
      ]
    },
    {
      "cell_type": "code",
      "source": [
        "train_data = pd.read_csv('/content/drive/MyDrive/Curso edX/Project 1: Automatic Review Analyzer/sentiment_analysis/reviews_train.tsv', sep='\\t', encoding = 'latin_1')\n",
        "test_data = pd.read_csv('/content/drive/MyDrive/Curso edX/Project 1: Automatic Review Analyzer/sentiment_analysis/reviews_test.tsv', sep='\\t', encoding = 'latin_1')\n",
        "X_train = train_data['text']\n",
        "y_train = train_data['sentiment']\n",
        "X_test = test_data['text']\n",
        "y_test = test_data['sentiment']"
      ],
      "metadata": {
        "id": "0hg4HSiTGDcp"
      },
      "execution_count": 2,
      "outputs": []
    },
    {
      "cell_type": "code",
      "execution_count": 3,
      "metadata": {
        "id": "XwXYmYB78TTq"
      },
      "outputs": [],
      "source": [
        "# store words of each review in python list\n",
        "def extract_words(text):    \n",
        "    for c in punctuation + digits:\n",
        "        text = text.replace(c, ' ' + c + ' ')\n",
        "    return text.lower().split()"
      ]
    },
    {
      "cell_type": "code",
      "execution_count": 4,
      "metadata": {
        "id": "ghYiPnWGB0yK"
      },
      "outputs": [],
      "source": [
        "# building a bag of words \n",
        "def bag_of_words(texts, stopwords):    \n",
        "    indices_by_word = {}  # maps word to unique index\n",
        "    for text in texts:\n",
        "        word_list = extract_words(text)\n",
        "        for word in word_list:\n",
        "            if word in indices_by_word: continue\n",
        "            if word in stopwords: continue\n",
        "            indices_by_word[word] = len(indices_by_word)\n",
        "    return indices_by_word"
      ]
    },
    {
      "cell_type": "code",
      "execution_count": null,
      "metadata": {
        "id": "S_MayWuUHowg"
      },
      "outputs": [],
      "source": [
        "nltk.download('stopwords') # download english stopwords\n",
        "stopwords = nltk.corpus.stopwords.words('english')\n",
        "stopwords\n",
        "indices_by_word = bag_of_words(X_train, stopwords)"
      ]
    },
    {
      "cell_type": "code",
      "source": [
        "def extract_bow_feature_vectors(reviews, indices_by_word):      \n",
        "    feature_matrix = np.zeros([len(reviews), len(indices_by_word)], dtype=np.float64)\n",
        "    for i, text in enumerate(reviews):\n",
        "        word_list = extract_words(text)\n",
        "        for word in word_list:\n",
        "            if word not in indices_by_word: continue\n",
        "            feature_matrix[i, indices_by_word[word]] = 1                                                                          \n",
        "    return feature_matrix"
      ],
      "metadata": {
        "id": "PD5LcbDLiL3J"
      },
      "execution_count": 6,
      "outputs": []
    },
    {
      "cell_type": "code",
      "source": [
        "training_feature_vectors = np.array(extract_bow_feature_vectors(X_train, indices_by_word))\n",
        "test_feature_vectors = np.array(extract_bow_feature_vectors(X_test, indices_by_word))\n",
        "trainig_labels = np.array(y_train)\n",
        "test_labels = np.array(y_test)"
      ],
      "metadata": {
        "id": "Pfb1SfkHxpR7"
      },
      "execution_count": 7,
      "outputs": []
    },
    {
      "cell_type": "code",
      "source": [
        "# find the regularization parameter alpha that minimizes the loss\n",
        "alpha = np.arange(1e-15,1,0.005) # range of hyperparameter values 1e-15 to 1 by 0.005 (this is the regularization parameter)\n",
        "val_scores = np.zeros((len(alpha),1)) # initialize validation score for each alpha value\n",
        "\n",
        "for i in range(len(alpha)): # for each alpha value\n",
        "    # Set up SVM with hinge loss and l2 norm regularization\n",
        "    model = linear_model.SGDClassifier(loss='hinge', penalty='l2', alpha=alpha[i])\n",
        "    # Calculate cross validation scores for 5-fold cross-validation\n",
        "    score = ms.cross_val_score(model, training_feature_vectors, trainig_labels, cv=5)\n",
        "    val_scores[i] = score.mean() # Calculate mean of the 5 scores"
      ],
      "metadata": {
        "id": "CdomovEkkadB"
      },
      "execution_count": 8,
      "outputs": []
    },
    {
      "cell_type": "code",
      "source": [
        "plt.plot(alpha,val_scores)\n",
        "plt.xlim(0,1)\n",
        "plt.xlabel('alpha')\n",
        "plt.ylabel('Mean Cross-Validation Accuracy')\n",
        "plt.show()"
      ],
      "metadata": {
        "id": "PPmE2AtxJV_T",
        "colab": {
          "base_uri": "https://localhost:8080/",
          "height": 279
        },
        "outputId": "bfdfa484-101a-4e29-b793-a3d31e3fb27e"
      },
      "execution_count": 9,
      "outputs": [
        {
          "output_type": "display_data",
          "data": {
            "text/plain": [
              "<Figure size 432x288 with 1 Axes>"
            ],
            "image/png": "[encoded data removed]"
          },
          "metadata": {
            "needs_background": "light"
          }
        }
      ]
    },
    {
      "cell_type": "code",
      "source": [
        "# Determine the alpha that maximizes the cross-validation score\n",
        "ind = np.argmax(val_scores) #argmax: returns the indices of the maximum values along an axis.\n",
        "alpha_star = alpha[ind]\n",
        "print('alpha_star =', alpha_star)\n",
        "\n",
        "plt.plot(alpha,val_scores)\n",
        "plt.plot(np.ones(11)*alpha_star,np.arange(0,1.1,0.1),'--r')\n",
        "plt.xlim(0,1)\n",
        "plt.ylim(0.525,0.8)\n",
        "plt.title('Optimal hyperparameter alpha (regularization parameter)')\n",
        "plt.xlabel('alpha')\n",
        "plt.ylabel('Mean Cross-Validation Accuracy')\n",
        "plt.show()"
      ],
      "metadata": {
        "colab": {
          "base_uri": "https://localhost:8080/",
          "height": 312
        },
        "id": "hoZPV22iLw9s",
        "outputId": "ce4a4587-9536-4f3f-b432-58bc5c4d05aa"
      },
      "execution_count": 10,
      "outputs": [
        {
          "output_type": "stream",
          "name": "stdout",
          "text": [
            "alpha_star = 0.005000000000001\n"
          ]
        },
        {
          "output_type": "display_data",
          "data": {
            "text/plain": [
              "<Figure size 432x288 with 1 Axes>"
            ],
            "image/png": "[encoded data removed]"
          },
          "metadata": {
            "needs_background": "light"
          }
        }
      ]
    },
    {
      "cell_type": "code",
      "source": [
        "# train model with alpha_star\n",
        "model_star = linear_model.SGDClassifier(loss='hinge', penalty='l2', alpha=alpha_star)\n",
        "model_trained = model_star.fit(training_feature_vectors, trainig_labels)\n",
        "print('Training Accuracy =', model_trained.score(training_feature_vectors, trainig_labels))"
      ],
      "metadata": {
        "colab": {
          "base_uri": "https://localhost:8080/"
        },
        "id": "SRT5kg66PMBC",
        "outputId": "86381a6d-562a-4718-b38c-3af01f854b0f"
      },
      "execution_count": 11,
      "outputs": [
        {
          "output_type": "stream",
          "name": "stdout",
          "text": [
            "Training Accuracy = 0.9415\n"
          ]
        }
      ]
    },
    {
      "cell_type": "code",
      "source": [
        "# accuracy of the model for test data\n",
        "print('Test Accuracy =', model_trained.score(test_feature_vectors, test_labels))"
      ],
      "metadata": {
        "colab": {
          "base_uri": "https://localhost:8080/"
        },
        "id": "6B67VqPgXhpR",
        "outputId": "9bddd6d8-aae3-4303-c745-954e0dd4f247"
      },
      "execution_count": 12,
      "outputs": [
        {
          "output_type": "stream",
          "name": "stdout",
          "text": [
            "Test Accuracy = 0.818\n"
          ]
        }
      ]
    },
    {
      "cell_type": "code",
      "source": [
        "# predictions using the first observations of X_test   \n",
        "predictions = pd.DataFrame(model_trained.predict(test_feature_vectors[:11]))\n",
        "prediction_text = pd.DataFrame(X_test[:11])\n",
        "first_y_test = pd.DataFrame(y_test[:11])\n",
        "table = pd.concat([prediction_text, first_y_test, predictions], axis=1, ignore_index=True)\n",
        "table[2] = np.where(table[2] == 1, 'Positive', 'Negative')\n",
        "table.rename(columns={0:'Amazong review', 1:'Real value', 2:'Prediction'})\n"
      ],
      "metadata": {
        "id": "HccsqGAqJ4E7",
        "colab": {
          "base_uri": "https://localhost:8080/",
          "height": 394
        },
        "outputId": "dc55229d-92b3-4e84-9989-cd67a7a5e67a"
      },
      "execution_count": 41,
      "outputs": [
        {
          "output_type": "execute_result",
          "data": {
            "text/plain": [
              "                                       Amazong review  Real value Prediction\n",
              "0   My built-in Bosch coffee machine has trouble g...           1   Positive\n",
              "1   An absolute \"must have\" item for your Bloody M...           1   Positive\n",
              "2   I have a Great Dane & most treats are gone in ...           1   Positive\n",
              "3   I got turned on to dried mangoes from the ones...          -1   Negative\n",
              "4   I enjoyed the product, good taste, good qualit...           1   Negative\n",
              "5   After doing numerous googles looking for Chips...          -1   Negative\n",
              "6   The texture of this chip is firm, solid, subst...           1   Negative\n",
              "7   I'm drinking oolong tea because Dr Oz said it ...          -1   Negative\n",
              "8   This dip mix is too salty, and it tastes more ...          -1   Negative\n",
              "9   I love this amazing product.  I eat it daily i...           1   Positive\n",
              "10  We have to hide these boxes and pull them out ...           1   Positive"
            ],
            "text/html": [
              "\n",
              "  <div id=\"df-26b39389-9324-4335-a070-583e5e8d8627\">\n",
              "    <div class=\"colab-df-container\">\n",
              "      <div>\n",
              "<style scoped>\n",
              "    .dataframe tbody tr th:only-of-type {\n",
              "        vertical-align: middle;\n",
              "    }\n",
              "\n",
              "    .dataframe tbody tr th {\n",
              "        vertical-align: top;\n",
              "    }\n",
              "\n",
              "    .dataframe thead th {\n",
              "        text-align: right;\n",
              "    }\n",
              "</style>\n",
              "<table border=\"1\" class=\"dataframe\">\n",
              "  <thead>\n",
              "    <tr style=\"text-align: right;\">\n",
              "      <th></th>\n",
              "      <th>Amazong review</th>\n",
              "      <th>Real value</th>\n",
              "      <th>Prediction</th>\n",
              "    </tr>\n",
              "  </thead>\n",
              "  <tbody>\n",
              "    <tr>\n",
              "      <th>0</th>\n",
              "      <td>My built-in Bosch coffee machine has trouble g...</td>\n",
              "      <td>1</td>\n",
              "      <td>Positive</td>\n",
              "    </tr>\n",
              "    <tr>\n",
              "      <th>1</th>\n",
              "      <td>An absolute \"must have\" item for your Bloody M...</td>\n",
              "      <td>1</td>\n",
              "      <td>Positive</td>\n",
              "    </tr>\n",
              "    <tr>\n",
              "      <th>2</th>\n",
              "      <td>I have a Great Dane &amp; most treats are gone in ...</td>\n",
              "      <td>1</td>\n",
              "      <td>Positive</td>\n",
              "    </tr>\n",
              "    <tr>\n",
              "      <th>3</th>\n",
              "      <td>I got turned on to dried mangoes from the ones...</td>\n",
              "      <td>-1</td>\n",
              "      <td>Negative</td>\n",
              "    </tr>\n",
              "    <tr>\n",
              "      <th>4</th>\n",
              "      <td>I enjoyed the product, good taste, good qualit...</td>\n",
              "      <td>1</td>\n",
              "      <td>Negative</td>\n",
              "    </tr>\n",
              "    <tr>\n",
              "      <th>5</th>\n",
              "      <td>After doing numerous googles looking for Chips...</td>\n",
              "      <td>-1</td>\n",
              "      <td>Negative</td>\n",
              "    </tr>\n",
              "    <tr>\n",
              "      <th>6</th>\n",
              "      <td>The texture of this chip is firm, solid, subst...</td>\n",
              "      <td>1</td>\n",
              "      <td>Negative</td>\n",
              "    </tr>\n",
              "    <tr>\n",
              "      <th>7</th>\n",
              "      <td>I'm drinking oolong tea because Dr Oz said it ...</td>\n",
              "      <td>-1</td>\n",
              "      <td>Negative</td>\n",
              "    </tr>\n",
              "    <tr>\n",
              "      <th>8</th>\n",
              "      <td>This dip mix is too salty, and it tastes more ...</td>\n",
              "      <td>-1</td>\n",
              "      <td>Negative</td>\n",
              "    </tr>\n",
              "    <tr>\n",
              "      <th>9</th>\n",
              "      <td>I love this amazing product.  I eat it daily i...</td>\n",
              "      <td>1</td>\n",
              "      <td>Positive</td>\n",
              "    </tr>\n",
              "    <tr>\n",
              "      <th>10</th>\n",
              "      <td>We have to hide these boxes and pull them out ...</td>\n",
              "      <td>1</td>\n",
              "      <td>Positive</td>\n",
              "    </tr>\n",
              "  </tbody>\n",
              "</table>\n",
              "</div>\n",
              "      <button class=\"colab-df-convert\" onclick=\"convertToInteractive('df-26b39389-9324-4335-a070-583e5e8d8627')\"\n",
              "              title=\"Convert this dataframe to an interactive table.\"\n",
              "              style=\"display:none;\">\n",
              "        \n",
              "  <svg xmlns=\"http://www.w3.org/2000/svg\" height=\"24px\"viewBox=\"0 0 24 24\"\n",
              "       width=\"24px\">\n",
              "    <path d=\"M0 0h24v24H0V0z\" fill=\"none\"/>\n",
              "    <path d=\"M18.56 5.44l.94 2.06.94-2.06 2.06-.94-2.06-.94-.94-2.06-.94 2.06-2.06.94zm-11 1L8.5 8.5l.94-2.06 2.06-.94-2.06-.94L8.5 2.5l-.94 2.06-2.06.94zm10 10l.94 2.06.94-2.06 2.06-.94-2.06-.94-.94-2.06-.94 2.06-2.06.94z\"/><path d=\"M17.41 7.96l-1.37-1.37c-.4-.4-.92-.59-1.43-.59-.52 0-1.04.2-1.43.59L10.3 9.45l-7.72 7.72c-.78.78-.78 2.05 0 2.83L4 21.41c.39.39.9.59 1.41.59.51 0 1.02-.2 1.41-.59l7.78-7.78 2.81-2.81c.8-.78.8-2.07 0-2.86zM5.41 20L4 18.59l7.72-7.72 1.47 1.35L5.41 20z\"/>\n",
              "  </svg>\n",
              "      </button>\n",
              "      \n",
              "  <style>\n",
              "    .colab-df-container {\n",
              "      display:flex;\n",
              "      flex-wrap:wrap;\n",
              "      gap: 12px;\n",
              "    }\n",
              "\n",
              "    .colab-df-convert {\n",
              "      background-color: #E8F0FE;\n",
              "      border: none;\n",
              "      border-radius: 50%;\n",
              "      cursor: pointer;\n",
              "      display: none;\n",
              "      fill: #1967D2;\n",
              "      height: 32px;\n",
              "      padding: 0 0 0 0;\n",
              "      width: 32px;\n",
              "    }\n",
              "\n",
              "    .colab-df-convert:hover {\n",
              "      background-color: #E2EBFA;\n",
              "      box-shadow: 0px 1px 2px rgba(60, 64, 67, 0.3), 0px 1px 3px 1px rgba(60, 64, 67, 0.15);\n",
              "      fill: #174EA6;\n",
              "    }\n",
              "\n",
              "    [theme=dark] .colab-df-convert {\n",
              "      background-color: #3B4455;\n",
              "      fill: #D2E3FC;\n",
              "    }\n",
              "\n",
              "    [theme=dark] .colab-df-convert:hover {\n",
              "      background-color: #434B5C;\n",
              "      box-shadow: 0px 1px 3px 1px rgba(0, 0, 0, 0.15);\n",
              "      filter: drop-shadow(0px 1px 2px rgba(0, 0, 0, 0.3));\n",
              "      fill: #FFFFFF;\n",
              "    }\n",
              "  </style>\n",
              "\n",
              "      <script>\n",
              "        const buttonEl =\n",
              "          document.querySelector('#df-26b39389-9324-4335-a070-583e5e8d8627 button.colab-df-convert');\n",
              "        buttonEl.style.display =\n",
              "          google.colab.kernel.accessAllowed ? 'block' : 'none';\n",
              "\n",
              "        async function convertToInteractive(key) {\n",
              "          const element = document.querySelector('#df-26b39389-9324-4335-a070-583e5e8d8627');\n",
              "          const dataTable =\n",
              "            await google.colab.kernel.invokeFunction('convertToInteractive',\n",
              "                                                     [key], {});\n",
              "          if (!dataTable) return;\n",
              "\n",
              "          const docLinkHtml = 'Like what you see? Visit the ' +\n",
              "            '<a target=\"_blank\" href=https://colab.research.google.com/notebooks/data_table.ipynb>data table notebook</a>'\n",
              "            + ' to learn more about interactive tables.';\n",
              "          element.innerHTML = '';\n",
              "          dataTable['output_type'] = 'display_data';\n",
              "          await google.colab.output.renderOutput(dataTable, element);\n",
              "          const docLink = document.createElement('div');\n",
              "          docLink.innerHTML = docLinkHtml;\n",
              "          element.appendChild(docLink);\n",
              "        }\n",
              "      </script>\n",
              "    </div>\n",
              "  </div>\n",
              "  "
            ]
          },
          "metadata": {},
          "execution_count": 41
        }
      ]
    }
  ],
  "metadata": {
    "colab": {
      "provenance": [],
      "authorship_tag": "ABX9TyP/kGWt3tGNiEtU4E2lzEP7",
      "include_colab_link": true
    },
    "kernelspec": {
      "display_name": "Python 3",
      "name": "python3"
    },
    "language_info": {
      "name": "python"
    }
  },
  "nbformat": 4,
  "nbformat_minor": 0
}